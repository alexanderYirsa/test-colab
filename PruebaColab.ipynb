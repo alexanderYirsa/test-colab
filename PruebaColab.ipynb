{
  "nbformat": 4,
  "nbformat_minor": 0,
  "metadata": {
    "colab": {
      "name": "PruebaColab.ipynb",
      "provenance": [],
      "authorship_tag": "ABX9TyN0DdjCNQmWWfitknq4qMBw",
      "include_colab_link": true
    },
    "kernelspec": {
      "name": "python3",
      "display_name": "Python 3"
    },
    "language_info": {
      "name": "python"
    }
  },
  "cells": [
    {
      "cell_type": "markdown",
      "metadata": {
        "id": "view-in-github",
        "colab_type": "text"
      },
      "source": [
        "<a href=\"https://colab.research.google.com/github/alexanderYirsa/test-colab/blob/main/PruebaColab.ipynb\" target=\"_parent\"><img src=\"https://colab.research.google.com/assets/colab-badge.svg\" alt=\"Open In Colab\"/></a>"
      ]
    },
    {
      "cell_type": "code",
      "metadata": {
        "id": "nz-tX6q4qUSE",
        "colab": {
          "base_uri": "https://localhost:8080/"
        },
        "outputId": "2e28e24c-e43b-45b7-bbb2-629ec903a992"
      },
      "source": [
        "print(\"Hola mundo\")\n",
        "print(\"Hola mundo2\")"
      ],
      "execution_count": 1,
      "outputs": [
        {
          "output_type": "stream",
          "text": [
            "Hola mundo\n",
            "Hola mundo2\n"
          ],
          "name": "stdout"
        }
      ]
    }
  ]
}